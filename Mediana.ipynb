{
  "nbformat": 4,
  "nbformat_minor": 0,
  "metadata": {
    "colab": {
      "provenance": []
    },
    "kernelspec": {
      "name": "python3",
      "display_name": "Python 3"
    },
    "language_info": {
      "name": "python"
    }
  },
  "cells": [
    {
      "cell_type": "code",
      "execution_count": 1,
      "metadata": {
        "id": "dncg6IKarbnj"
      },
      "outputs": [],
      "source": [
        "from pyspark.sql import SparkSession\n",
        "from pyspark.sql.functions import col, expr, mean, corr"
      ]
    },
    {
      "cell_type": "code",
      "source": [
        "spark = SparkSession.builder.appName(\"Mediana\").getOrCreate()\n"
      ],
      "metadata": {
        "id": "AoRWPkH8rixb"
      },
      "execution_count": 2,
      "outputs": []
    },
    {
      "cell_type": "code",
      "source": [
        "spark"
      ],
      "metadata": {
        "colab": {
          "base_uri": "https://localhost:8080/",
          "height": 221
        },
        "id": "31CbOIaorkUh",
        "outputId": "c68c3b7d-91c1-4457-9ff6-00955324e164"
      },
      "execution_count": 3,
      "outputs": [
        {
          "output_type": "execute_result",
          "data": {
            "text/plain": [
              "<pyspark.sql.session.SparkSession at 0x79dcf6de09d0>"
            ],
            "text/html": [
              "\n",
              "            <div>\n",
              "                <p><b>SparkSession - in-memory</b></p>\n",
              "                \n",
              "        <div>\n",
              "            <p><b>SparkContext</b></p>\n",
              "\n",
              "            <p><a href=\"http://78f1867acbcc:4040\">Spark UI</a></p>\n",
              "\n",
              "            <dl>\n",
              "              <dt>Version</dt>\n",
              "                <dd><code>v3.5.3</code></dd>\n",
              "              <dt>Master</dt>\n",
              "                <dd><code>local[*]</code></dd>\n",
              "              <dt>AppName</dt>\n",
              "                <dd><code>Mediana</code></dd>\n",
              "            </dl>\n",
              "        </div>\n",
              "        \n",
              "            </div>\n",
              "        "
            ]
          },
          "metadata": {},
          "execution_count": 3
        }
      ]
    },
    {
      "cell_type": "code",
      "source": [
        "datosPacientesGeneral =[(\"Juan Pablo\", 32), (\"Ernesto Ruiz\",12), (\"Daniel Castro\",30), (\"Pablo Torres\", 15), (\"Alexis Sanchez\", 20), (\"Luisa Nuñez\", 27), (\"Ana Frank\", 30), (\"Fernanda Salcedo\", 21) ]\n",
        "columns = [\"Nombre Paciente\", \"Edad\"]\n",
        "variable = spark.createDataFrame(datosPacientesGeneral, columns)"
      ],
      "metadata": {
        "id": "kQfcbgVDr_6V"
      },
      "execution_count": 4,
      "outputs": []
    },
    {
      "cell_type": "code",
      "source": [
        "var_mediana = variable.approxQuantile(\"Edad\", [0.5], 0.0)"
      ],
      "metadata": {
        "id": "MBA8VL63sTEF"
      },
      "execution_count": 5,
      "outputs": []
    },
    {
      "cell_type": "code",
      "source": [
        "print (\"La mediana de edad de todos los pacientes es: \", var_mediana)"
      ],
      "metadata": {
        "colab": {
          "base_uri": "https://localhost:8080/"
        },
        "id": "oOQMsDkIsZZt",
        "outputId": "1566ad8f-c246-407c-e403-3e3b516de8b6"
      },
      "execution_count": 6,
      "outputs": [
        {
          "output_type": "stream",
          "name": "stdout",
          "text": [
            "La mediana de edad de todos los pacientes es:  [27.0]\n"
          ]
        }
      ]
    }
  ]
}