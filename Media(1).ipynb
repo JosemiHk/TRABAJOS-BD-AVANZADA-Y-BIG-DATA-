{
  "nbformat": 4,
  "nbformat_minor": 0,
  "metadata": {
    "colab": {
      "provenance": []
    },
    "kernelspec": {
      "name": "python3",
      "display_name": "Python 3"
    },
    "language_info": {
      "name": "python"
    }
  },
  "cells": [
    {
      "cell_type": "code",
      "execution_count": 1,
      "metadata": {
        "id": "lYLLJzfpn64P"
      },
      "outputs": [],
      "source": [
        "from pyspark.sql import SparkSession\n",
        "from pyspark.sql.functions import col, expr, mean, corr"
      ]
    },
    {
      "cell_type": "code",
      "source": [
        "spark = SparkSession.builder.appName(\"Media\").getOrCreate()\n"
      ],
      "metadata": {
        "id": "HffU19jdppPP"
      },
      "execution_count": 2,
      "outputs": []
    },
    {
      "cell_type": "code",
      "source": [
        "spark"
      ],
      "metadata": {
        "colab": {
          "base_uri": "https://localhost:8080/",
          "height": 221
        },
        "id": "k5W1dRWXpsOn",
        "outputId": "88878670-6973-4543-c535-db243bc0267d"
      },
      "execution_count": 3,
      "outputs": [
        {
          "output_type": "execute_result",
          "data": {
            "text/plain": [
              "<pyspark.sql.session.SparkSession at 0x7b1d1feb6800>"
            ],
            "text/html": [
              "\n",
              "            <div>\n",
              "                <p><b>SparkSession - in-memory</b></p>\n",
              "                \n",
              "        <div>\n",
              "            <p><b>SparkContext</b></p>\n",
              "\n",
              "            <p><a href=\"http://e2ab99a60064:4040\">Spark UI</a></p>\n",
              "\n",
              "            <dl>\n",
              "              <dt>Version</dt>\n",
              "                <dd><code>v3.5.3</code></dd>\n",
              "              <dt>Master</dt>\n",
              "                <dd><code>local[*]</code></dd>\n",
              "              <dt>AppName</dt>\n",
              "                <dd><code>Media</code></dd>\n",
              "            </dl>\n",
              "        </div>\n",
              "        \n",
              "            </div>\n",
              "        "
            ]
          },
          "metadata": {},
          "execution_count": 3
        }
      ]
    },
    {
      "cell_type": "code",
      "source": [
        "datosPacientesDiabetes =[(\"Juan Pablo\", 32), (\"Ernesto Ruiz\",24), (\"Daniel Castro\",30), (\"Pablo\", 28), (\"Alexis Sanchez\", 20), (\"Cristobal Nuñez\", 27), (\"Ana Frank\", 30), (\"Carlos Salcedo\", 21)]\n",
        "columns = [\"Nombre Paciente\", \"Edad\"]\n",
        "variable = spark.createDataFrame(datosPacientesDiabetes, columns)"
      ],
      "metadata": {
        "id": "z-P_6ot2p9RW"
      },
      "execution_count": 4,
      "outputs": []
    },
    {
      "cell_type": "code",
      "source": [
        "variable.select(mean(col(\"Edad\")).alias(\"Media de Edades de los pacientes con diabetes\")).show()"
      ],
      "metadata": {
        "colab": {
          "base_uri": "https://localhost:8080/"
        },
        "id": "OCDbEHL7qw2Q",
        "outputId": "388d1c84-0c88-4783-ba22-36a1ffb4eef6"
      },
      "execution_count": 8,
      "outputs": [
        {
          "output_type": "stream",
          "name": "stdout",
          "text": [
            "+---------------------------------------------+\n",
            "|Media de Edades de los pacientes con diabetes|\n",
            "+---------------------------------------------+\n",
            "|                                         26.5|\n",
            "+---------------------------------------------+\n",
            "\n"
          ]
        }
      ]
    },
    {
      "cell_type": "code",
      "source": [],
      "metadata": {
        "id": "aSaCZVFQq1p_"
      },
      "execution_count": null,
      "outputs": []
    }
  ]
}