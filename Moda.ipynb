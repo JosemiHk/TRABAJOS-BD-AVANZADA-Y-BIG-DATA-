{
  "nbformat": 4,
  "nbformat_minor": 0,
  "metadata": {
    "colab": {
      "provenance": []
    },
    "kernelspec": {
      "name": "python3",
      "display_name": "Python 3"
    },
    "language_info": {
      "name": "python"
    }
  },
  "cells": [
    {
      "cell_type": "code",
      "execution_count": 1,
      "metadata": {
        "id": "54oJGVNNtcmF"
      },
      "outputs": [],
      "source": [
        "from pyspark.sql import SparkSession\n",
        "from pyspark.sql.functions import col, expr, mean, corr"
      ]
    },
    {
      "cell_type": "code",
      "execution_count": 2,
      "metadata": {
        "id": "T-7SBNUGuTLW"
      },
      "outputs": [],
      "source": [
        "spark = SparkSession.builder.appName(\"Moda\").getOrCreate()"
      ]
    },
    {
      "cell_type": "code",
      "execution_count": 3,
      "metadata": {
        "id": "lYLLJzfpn64P",
        "colab": {
          "base_uri": "https://localhost:8080/",
          "height": 221
        },
        "outputId": "a71e5f3a-5b5f-4d9f-f75b-cbcbcf53f350"
      },
      "outputs": [
        {
          "output_type": "execute_result",
          "data": {
            "text/plain": [
              "<pyspark.sql.session.SparkSession at 0x7d2bb70281c0>"
            ],
            "text/html": [
              "\n",
              "            <div>\n",
              "                <p><b>SparkSession - in-memory</b></p>\n",
              "                \n",
              "        <div>\n",
              "            <p><b>SparkContext</b></p>\n",
              "\n",
              "            <p><a href=\"http://4b68910960ef:4040\">Spark UI</a></p>\n",
              "\n",
              "            <dl>\n",
              "              <dt>Version</dt>\n",
              "                <dd><code>v3.5.3</code></dd>\n",
              "              <dt>Master</dt>\n",
              "                <dd><code>local[*]</code></dd>\n",
              "              <dt>AppName</dt>\n",
              "                <dd><code>Moda</code></dd>\n",
              "            </dl>\n",
              "        </div>\n",
              "        \n",
              "            </div>\n",
              "        "
            ]
          },
          "metadata": {},
          "execution_count": 3
        }
      ],
      "source": [
        "spark"
      ]
    },
    {
      "cell_type": "code",
      "source": [
        "sintoma =[(\"Fabrizio Ortiz\", \"Aumento de la sed y de las ganas de orinar \"), (\"Jose Marthans\",\"Pérdida de peso\"), (\"Luis\",\"Visión borrosa \"), (\"Pablo\", \"Hormigueo o entumecimiento\"), (\"Juan\", \"Visión borrosa \"), (\"Cris\", \"Visión borrosa \"), (\"Ana\", \"Hormigueo o entumecimiento\"), (\"Carlos\", \"Visión borrosa \")]\n",
        "columns = [\"Nombres\", \"Sintomas\"]\n",
        "variable = spark.createDataFrame(sintoma, columns)"
      ],
      "metadata": {
        "id": "VxVwHw00veqT"
      },
      "execution_count": 5,
      "outputs": []
    },
    {
      "cell_type": "code",
      "source": [
        "moda_sintomas = variable.groupBy(\"Sintomas\").count().orderBy(col(\"count\").desc()).first()"
      ],
      "metadata": {
        "id": "z151uFQOvDQL"
      },
      "execution_count": 6,
      "outputs": []
    },
    {
      "cell_type": "code",
      "source": [
        "print (\"El síntoma mas comun en pacientes con diabetes es: \", moda_sintomas[\"Sintomas\"])"
      ],
      "metadata": {
        "colab": {
          "base_uri": "https://localhost:8080/"
        },
        "id": "A8bbzCnlvQgv",
        "outputId": "e1da8a30-5132-4305-9acb-5f2e869f51e4"
      },
      "execution_count": 9,
      "outputs": [
        {
          "output_type": "stream",
          "name": "stdout",
          "text": [
            "El síntoma mas comun en pacientes con diabetes es:  Visión borrosa \n"
          ]
        }
      ]
    }
  ]
}